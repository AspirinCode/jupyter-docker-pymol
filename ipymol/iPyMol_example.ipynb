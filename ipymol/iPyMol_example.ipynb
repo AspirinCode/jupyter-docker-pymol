{
 "cells": [
  {
   "cell_type": "markdown",
   "metadata": {},
   "source": [
    "## Interacting with PyMol via iPyMol\n",
    "(some examples from http://pymolwiki.org/index.php/Gallery )"
   ]
  },
  {
   "cell_type": "markdown",
   "metadata": {},
   "source": [
    "#### Initialize\n",
    "Jupyter needs the `%pylab inline` directive for showing plots within a notebook"
   ]
  },
  {
   "cell_type": "code",
   "execution_count": null,
   "metadata": {
    "collapsed": false,
    "scrolled": true
   },
   "outputs": [],
   "source": [
    "%pylab inline\n",
    "from ipymol import viewer as pymol"
   ]
  },
  {
   "cell_type": "markdown",
   "metadata": {},
   "source": [
    "#### Start the PyMol server"
   ]
  },
  {
   "cell_type": "code",
   "execution_count": null,
   "metadata": {
    "collapsed": false
   },
   "outputs": [],
   "source": [
    "pymol.start()"
   ]
  },
  {
   "cell_type": "markdown",
   "metadata": {},
   "source": [
    "#### PyMol\n",
    "PyMol scripts are fed to the server via the `do()` iPyMol function:"
   ]
  },
  {
   "cell_type": "code",
   "execution_count": null,
   "metadata": {
    "collapsed": true
   },
   "outputs": [],
   "source": [
    "pymol.do('fetch 4MBS')\n",
    "pymol.do('bg white; remove chain A; remove solvent; select ligand, resn MRV; as sticks, ligand;center ligand;orient ligand; zoom ligand, 10;rotate z,180;rotate x,90;center ligand; as spheres, 4MBS and not ligand; clip near, 5; util.cbaw; color slate, elem N; set light_count,8;set spec_count,1;set shininess, 10;set specular, 0.25;set ambient,0;set direct,0;set reflect,1.5;set ray_shadow_decay_factor, 0.3;set ray_shadow_decay_range, 1;unset depth_cue;show spheres, ligand; set stick_radius=.07, ligand; set sphere_scale,.25,ligand;color black, elem C and ligand; set stick_color, white; set sphere_quality,4 , ligand;set sphere_transparency,.2,4MBS and not ligand;ray')"
   ]
  },
  {
   "cell_type": "code",
   "execution_count": null,
   "metadata": {
    "collapsed": true
   },
   "outputs": [],
   "source": [
    "pymol.do('bg white; fetch 1hpv, tmp; extract lig, organic; extract prot, polymer; delete tmp; set surface_carve_cutoff, 4.5; set surface_carve_selection, lig; set surface_carve_normal_cutoff, -0.1; show surface, prot within 8 of lig; set two_sided_lighting; set transparency, 0.5; show sticks, lig; orient lig; set surface_color, white; set surface_type, 2; unset ray_shadows; ray')"
   ]
  },
  {
   "cell_type": "code",
   "execution_count": null,
   "metadata": {
    "collapsed": false,
    "scrolled": true
   },
   "outputs": [],
   "source": [
    "f1 = pymol.show()"
   ]
  },
  {
   "cell_type": "code",
   "execution_count": null,
   "metadata": {
    "collapsed": true
   },
   "outputs": [],
   "source": [
    "pymol.do('fetch 1hpv; set_color oxygen, [1.0,0.4,0.4]; set_color nitrogen, [0.5,0.5,1.0]; remove solvent; as spheres; util.cbaw; bg white; set light_count,8; set spec_count,1; set shininess, 10; set specular, 0.25; set ambient,0; set direct,0; set reflect,1.5; set ray_shadow_decay_factor, 0.1; set ray_shadow_decay_range, 2; unset depth_cue; set field_of_view, 60; ray')"
   ]
  },
  {
   "cell_type": "code",
   "execution_count": null,
   "metadata": {
    "collapsed": false
   },
   "outputs": [],
   "source": [
    "f2 = pymol.show()"
   ]
  },
  {
   "cell_type": "markdown",
   "metadata": {},
   "source": [
    "#### N.B.\n",
    "At times, PyMol might need to be reset to defaults; use `reinit()` :"
   ]
  },
  {
   "cell_type": "code",
   "execution_count": null,
   "metadata": {
    "collapsed": true
   },
   "outputs": [],
   "source": [
    "pymol.reinit()"
   ]
  },
  {
   "cell_type": "code",
   "execution_count": null,
   "metadata": {
    "collapsed": true
   },
   "outputs": [],
   "source": [
    "pymol.do('fetch 1wld; as surface, poly; as sticks, org; h_add solvent; color grey, poly; orient org')"
   ]
  },
  {
   "cell_type": "code",
   "execution_count": null,
   "metadata": {
    "collapsed": false
   },
   "outputs": [],
   "source": [
    "f3 = pymol.show()"
   ]
  },
  {
   "cell_type": "code",
   "execution_count": null,
   "metadata": {
    "collapsed": true
   },
   "outputs": [],
   "source": [
    "pymol.do('fetch 3uex, struct, async=0; remove solvent; alter all, b=10; alter all, q=1; set gaussian_resolution, 7.6; map_new map, gaussian, 1, n. C+O+N+CA, 5; isosurface surf, map, 1.5; spectrum count, rainbow, struct; cmd.ramp_new(\"ramp\", \"struct\", [0,10,10], \"rainbow\"); cmd.set(\"surface_color\", \"ramp\", \"surf\"); disable ramp; hide lines; show sticks, org; show spheres, org; color magenta, org; reinit; fetch 3uex, struct, async=0; remove solvent; alter all, b=10; alter all, q=1; set gaussian_resolution, 7.6; map_new map, gaussian, 1, n. C+O+N+CA, 5; isosurface surf, map, 1.5; spectrum count, rainbow, struct; cmd.ramp_new(\"ramp\", \"struct\", [0,10,10], \"rainbow\"); cmd.set(\"surface_color\", \"ramp\", \"surf\"); disable ramp; hide lines; show sticks, org; show spheres, org; color magenta, org; set_bond stick_radius, 0.13, org; set sphere_scale, 0.26, org; set_bond stick_radius, 0.13, org; set_bond stick_color, white, org; set sphere_scale, 0.26, org; set_view (-0.877680123,    0.456324875,   -0.146428943, 0.149618521,   -0.029365506,   -0.988305628, -0.455291569,   -0.889327347,   -0.042500813, -0.000035629,    0.000030629,  -37.112102509, -3.300258160,    6.586110592,   22.637466431, 8.231912613,   65.999290466,  -50.000000000 ); ray')"
   ]
  },
  {
   "cell_type": "code",
   "execution_count": null,
   "metadata": {
    "collapsed": false
   },
   "outputs": [],
   "source": [
    "f5 = pymol.show()"
   ]
  },
  {
   "cell_type": "code",
   "execution_count": null,
   "metadata": {
    "collapsed": true
   },
   "outputs": [],
   "source": [
    "pymol.reinit()"
   ]
  },
  {
   "cell_type": "code",
   "execution_count": null,
   "metadata": {
    "collapsed": true
   },
   "outputs": [],
   "source": []
  }
 ],
 "metadata": {
  "kernelspec": {
   "display_name": "Python 3",
   "language": "python",
   "name": "python3"
  },
  "language_info": {
   "codemirror_mode": {
    "name": "ipython",
    "version": 3
   },
   "file_extension": ".py",
   "mimetype": "text/x-python",
   "name": "python",
   "nbconvert_exporter": "python",
   "pygments_lexer": "ipython3",
   "version": "3.4.3"
  }
 },
 "nbformat": 4,
 "nbformat_minor": 0
}
