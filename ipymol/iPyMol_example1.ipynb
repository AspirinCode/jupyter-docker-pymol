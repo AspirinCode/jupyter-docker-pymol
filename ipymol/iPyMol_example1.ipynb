{
 "cells": [
  {
   "cell_type": "markdown",
   "metadata": {},
   "source": [
    "## Interacting with PyMol via iPyMol\n",
    "(example from https://github.com/cxhernandez/ipymol, find more e.g. at http://pymolwiki.org/index.php/Gallery )"
   ]
  },
  {
   "cell_type": "markdown",
   "metadata": {},
   "source": [
    "#### Initialize\n",
    "Jupyter needs the `%pylab inline` directive for showing plots within a notebook"
   ]
  },
  {
   "cell_type": "code",
   "execution_count": 1,
   "metadata": {
    "collapsed": false,
    "scrolled": true
   },
   "outputs": [
    {
     "name": "stdout",
     "output_type": "stream",
     "text": [
      "Populating the interactive namespace from numpy and matplotlib\n"
     ]
    }
   ],
   "source": [
    "%pylab inline\n",
    "from ipymol import viewer as pymol"
   ]
  },
  {
   "cell_type": "markdown",
   "metadata": {},
   "source": [
    "#### Start the PyMol server"
   ]
  },
  {
   "cell_type": "code",
   "execution_count": 2,
   "metadata": {
    "collapsed": false
   },
   "outputs": [],
   "source": [
    "pymol.start()"
   ]
  },
  {
   "cell_type": "markdown",
   "metadata": {},
   "source": [
    "#### PyMol\n",
    "PyMol scripts are fed to the server via the `do()` iPyMol function:"
   ]
  },
  {
   "cell_type": "code",
   "execution_count": 5,
   "metadata": {
    "collapsed": true
   },
   "outputs": [],
   "source": [
    "pymol.do('fetch 4MBS')\n",
    "pymol.do('bg white; remove chain A; remove solvent; select ligand, resn MRV; as sticks, ligand;center ligand;orient ligand; zoom ligand, 10;rotate z,180;rotate x,90;center ligand; as spheres, 4MBS and not ligand; clip near, 5; util.cbaw; color slate, elem N; set light_count,8;set spec_count,1;set shininess, 10;set specular, 0.25;set ambient,0;set direct,0;set reflect,1.5;set ray_shadow_decay_factor, 0.3;set ray_shadow_decay_range, 1;unset depth_cue;show spheres, ligand; set stick_radius=.07, ligand; set sphere_scale,.25,ligand;color black, elem C and ligand; set stick_color, white; set sphere_quality,4 , ligand;set sphere_transparency,.2,4MBS and not ligand;')\n",
    "pymol.do('ray; png 4MBS.png')"
   ]
  },
  {
   "cell_type": "code",
   "execution_count": null,
   "metadata": {
    "collapsed": false,
    "scrolled": false
   },
   "outputs": [],
   "source": [
    "f1 = pymol.show()"
   ]
  },
  {
   "cell_type": "markdown",
   "metadata": {},
   "source": [
    "#### N.B.\n",
    "At times, PyMol might need to be reset to defaults; use `reinit()` :"
   ]
  },
  {
   "cell_type": "code",
   "execution_count": 94,
   "metadata": {
    "collapsed": true
   },
   "outputs": [],
   "source": [
    "pymol.reinit()"
   ]
  },
  {
   "cell_type": "code",
   "execution_count": null,
   "metadata": {
    "collapsed": true
   },
   "outputs": [],
   "source": []
  }
 ],
 "metadata": {
  "kernelspec": {
   "display_name": "Python 3",
   "language": "python",
   "name": "python3"
  },
  "language_info": {
   "codemirror_mode": {
    "name": "ipython",
    "version": 3
   },
   "file_extension": ".py",
   "mimetype": "text/x-python",
   "name": "python",
   "nbconvert_exporter": "python",
   "pygments_lexer": "ipython3",
   "version": "3.4.3"
  }
 },
 "nbformat": 4,
 "nbformat_minor": 0
}
